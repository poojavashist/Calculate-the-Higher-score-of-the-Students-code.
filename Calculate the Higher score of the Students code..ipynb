{
 "cells": [
  {
   "cell_type": "raw",
   "metadata": {},
   "source": [
    "# student_scores = [78, 65, 89, 86, 55, 91, 64, 89]\n",
    "\n",
    "Important you are not allowed to use the max or min functions. The output words must match the example. i.e\n",
    "\n",
    "The highest score in the class is: x\n",
    "\n",
    "Example Input\n",
    "78 65 89 86 55 91 64 89\n",
    "78 65 89 86 55 91 64 89\n",
    "In this case, student_scores would be a list that looks like: [78, 65, 89, 86, 55, 91, 64, 89]\n",
    "\n",
    "Example Output\n",
    "The highest score in the class is: 91\n",
    "The highest score in the class is: 91\n",
    "e.g. When you hit run, this is what should happen:\n",
    " "
   ]
  },
  {
   "cell_type": "code",
   "execution_count": 38,
   "metadata": {},
   "outputs": [
    {
     "name": "stdout",
     "output_type": "stream",
     "text": [
      "\n",
      "Input a list of student score 78 65 89 86 55 91 64 89\n",
      "\n",
      "List of students score sperated by delimeter :  [78, 65, 89, 86, 55, 91, 64, 89]\n",
      "\n",
      "The highest score in the class is :91\n"
     ]
    }
   ],
   "source": [
    "students_score = input(\"\\nInput a list of student score \").split()\n",
    "for n in range(0, len(students_score)):\n",
    "    students_score[n] = int(students_score[n])\n",
    "print(\"\\nList of students score sperated by delimeter : \", students_score)\n",
    "\n",
    "highest_score = 0\n",
    "for score in students_score:\n",
    "    if score > highest_score:\n",
    "        highest_score = score\n",
    "print(f\"\\nThe highest score in the class is :{highest_score}\")\n",
    "\n",
    "   "
   ]
  },
  {
   "cell_type": "raw",
   "metadata": {},
   "source": []
  },
  {
   "cell_type": "code",
   "execution_count": null,
   "metadata": {},
   "outputs": [],
   "source": []
  }
 ],
 "metadata": {
  "kernelspec": {
   "display_name": "Python 3",
   "language": "python",
   "name": "python3"
  },
  "language_info": {
   "codemirror_mode": {
    "name": "ipython",
    "version": 3
   },
   "file_extension": ".py",
   "mimetype": "text/x-python",
   "name": "python",
   "nbconvert_exporter": "python",
   "pygments_lexer": "ipython3",
   "version": "3.8.3"
  }
 },
 "nbformat": 4,
 "nbformat_minor": 4
}
